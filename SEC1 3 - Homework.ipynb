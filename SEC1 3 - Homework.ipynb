{
 "cells": [
  {
   "cell_type": "code",
   "execution_count": 1,
   "id": "1022e4d8",
   "metadata": {
    "ExecuteTime": {
     "end_time": "2024-01-26T20:44:48.784518Z",
     "start_time": "2024-01-26T20:44:47.391508Z"
    },
    "cell_style": "center"
   },
   "outputs": [],
   "source": [
    "import pandas as pd"
   ]
  },
  {
   "cell_type": "markdown",
   "id": "a98f5070",
   "metadata": {},
   "source": [
    "# 1.) Clean the Apple Data to get a quarterly series of EPS."
   ]
  },
  {
   "cell_type": "code",
   "execution_count": 2,
   "id": "7e7292a1",
   "metadata": {
    "ExecuteTime": {
     "end_time": "2024-01-25T01:09:13.804871Z",
     "start_time": "2024-01-25T01:09:13.738251Z"
    }
   },
   "outputs": [],
   "source": [
    "y = pd.read_csv(\"AAPL_quarterly_financials.csv\")"
   ]
  },
  {
   "cell_type": "code",
   "execution_count": 3,
   "id": "afe166de",
   "metadata": {
    "ExecuteTime": {
     "end_time": "2024-01-25T01:09:13.819517Z",
     "start_time": "2024-01-25T01:09:13.811625Z"
    }
   },
   "outputs": [],
   "source": [
    "y.index = y.name"
   ]
  },
  {
   "cell_type": "code",
   "execution_count": 4,
   "id": "7a7d9b0a",
   "metadata": {
    "ExecuteTime": {
     "end_time": "2024-01-25T01:09:13.841424Z",
     "start_time": "2024-01-25T01:09:13.829967Z"
    },
    "scrolled": false
   },
   "outputs": [],
   "source": [
    "y = pd.DataFrame(y.loc[\"BasicEPS\",:]).iloc[2:,:]"
   ]
  },
  {
   "cell_type": "code",
   "execution_count": 5,
   "id": "3c9d5ae2",
   "metadata": {
    "ExecuteTime": {
     "end_time": "2024-01-25T01:09:13.863394Z",
     "start_time": "2024-01-25T01:09:13.850599Z"
    }
   },
   "outputs": [],
   "source": [
    "y.index = pd.to_datetime(y.index)"
   ]
  },
  {
   "cell_type": "markdown",
   "id": "2c1b3d9a",
   "metadata": {},
   "source": [
    "## 2.) Import data. Train, Test, Holdout (80%,15%,5%)"
   ]
  },
  {
   "cell_type": "code",
   "execution_count": 6,
   "id": "397b45e8",
   "metadata": {
    "ExecuteTime": {
     "end_time": "2024-01-25T01:09:13.883134Z",
     "start_time": "2024-01-25T01:09:13.871203Z"
    }
   },
   "outputs": [],
   "source": [
    "y= y.fillna(0.).sort_index()"
   ]
  },
  {
   "cell_type": "markdown",
   "id": "f41c46a9",
   "metadata": {},
   "source": [
    "# 3.) Come up with 6 search terms you think could nowcast earnings. (Different than the ones I used) Add in 3 terms that that you think will not Nowcast earnings. Pull in the gtrends data. Clean it to have a quarterly average."
   ]
  },
  {
   "cell_type": "code",
   "execution_count": 7,
   "id": "c663a527",
   "metadata": {
    "ExecuteTime": {
     "end_time": "2024-01-25T01:09:14.057845Z",
     "start_time": "2024-01-25T01:09:13.888153Z"
    }
   },
   "outputs": [],
   "source": [
    "from pytrends.request import TrendReq"
   ]
  },
  {
   "cell_type": "code",
   "execution_count": 8,
   "id": "36446546",
   "metadata": {
    "ExecuteTime": {
     "end_time": "2024-01-25T01:09:20.994584Z",
     "start_time": "2024-01-25T01:09:14.061917Z"
    },
    "cell_style": "center"
   },
   "outputs": [],
   "source": [
    "# Create pytrends object\n",
    "pytrends = TrendReq(hl='en-US', tz=360)\n",
    "\n",
    "# Set up the keywords and the timeframe\n",
    "keywords = [\"iPhone\", \"Apple Layoff\",\"MacBook\",\"iPad\",\"Apple CEO\",\n",
    "            \"Apple Share Price\",\"Recession\",\"Chip Costs\",\n",
    "            \"Taylor Swift Tickets\",\"Is the Earth Flat\",\"Hospital\" ]  # Add your keywords here\n",
    "start_date = '2004-01-01'\n",
    "end_date = '2024-01-01'\n",
    "\n",
    "# Create an empty DataFrame to store the results\n",
    "df = pd.DataFrame()\n",
    "\n",
    "# Iterate through keywords and fetch data\n",
    "for keyword in keywords:\n",
    "    pytrends.build_payload([keyword], cat=0, timeframe=f'{start_date} {end_date}', geo='', gprop='')\n",
    "    interest_over_time_df = pytrends.interest_over_time()\n",
    "    df[keyword] = interest_over_time_df[keyword]"
   ]
  },
  {
   "cell_type": "code",
   "execution_count": 9,
   "id": "77671d95",
   "metadata": {
    "ExecuteTime": {
     "end_time": "2024-01-25T01:09:21.013487Z",
     "start_time": "2024-01-25T01:09:20.996072Z"
    }
   },
   "outputs": [],
   "source": [
    "X= df.resample('Q').mean()"
   ]
  },
  {
   "cell_type": "code",
   "execution_count": 10,
   "id": "c1a981d6",
   "metadata": {
    "ExecuteTime": {
     "end_time": "2024-01-25T01:09:21.029207Z",
     "start_time": "2024-01-25T01:09:21.018585Z"
    }
   },
   "outputs": [],
   "source": [
    "temp = pd.concat([y,X], axis = 1).dropna()\n",
    "y= temp[[\"BasicEPS\"]].copy()\n",
    "X= temp.iloc[:,1:].copy()"
   ]
  },
  {
   "cell_type": "markdown",
   "id": "612fd6fc",
   "metadata": {},
   "source": [
    "# 2.) Normalize all the X data"
   ]
  },
  {
   "cell_type": "code",
   "execution_count": 11,
   "id": "6d0e899f",
   "metadata": {
    "ExecuteTime": {
     "end_time": "2024-01-25T01:09:21.960328Z",
     "start_time": "2024-01-25T01:09:21.032203Z"
    }
   },
   "outputs": [],
   "source": [
    "from sklearn.preprocessing import StandardScaler"
   ]
  },
  {
   "cell_type": "code",
   "execution_count": 12,
   "id": "b2e225c3",
   "metadata": {
    "ExecuteTime": {
     "end_time": "2024-01-25T01:09:21.965639Z",
     "start_time": "2024-01-25T01:09:21.962306Z"
    }
   },
   "outputs": [],
   "source": [
    "scaler = StandardScaler()"
   ]
  },
  {
   "cell_type": "code",
   "execution_count": 13,
   "id": "413bcbd8",
   "metadata": {
    "ExecuteTime": {
     "end_time": "2024-01-25T01:09:21.982447Z",
     "start_time": "2024-01-25T01:09:21.974149Z"
    }
   },
   "outputs": [],
   "source": [
    "X_scaled = scaler.fit_transform(X)"
   ]
  },
  {
   "cell_type": "markdown",
   "id": "da43d5ef",
   "metadata": {},
   "source": [
    "# 4.) Run a Lasso with lambda of .5. Plot a bar chart."
   ]
  },
  {
   "cell_type": "code",
   "execution_count": 14,
   "id": "b7ff06aa",
   "metadata": {
    "ExecuteTime": {
     "end_time": "2024-01-25T01:09:22.102115Z",
     "start_time": "2024-01-25T01:09:21.985694Z"
    }
   },
   "outputs": [],
   "source": [
    "from sklearn.linear_model import Lasso"
   ]
  },
  {
   "cell_type": "code",
   "execution_count": 15,
   "id": "f7311bec",
   "metadata": {
    "ExecuteTime": {
     "end_time": "2024-01-25T01:09:22.108747Z",
     "start_time": "2024-01-25T01:09:22.104918Z"
    }
   },
   "outputs": [],
   "source": [
    "lasso = Lasso(alpha = .1)"
   ]
  },
  {
   "cell_type": "code",
   "execution_count": 16,
   "id": "48ec6910",
   "metadata": {
    "ExecuteTime": {
     "end_time": "2024-01-25T01:09:22.127839Z",
     "start_time": "2024-01-25T01:09:22.110736Z"
    }
   },
   "outputs": [
    {
     "data": {
      "text/html": [
       "<style>#sk-container-id-1 {color: black;}#sk-container-id-1 pre{padding: 0;}#sk-container-id-1 div.sk-toggleable {background-color: white;}#sk-container-id-1 label.sk-toggleable__label {cursor: pointer;display: block;width: 100%;margin-bottom: 0;padding: 0.3em;box-sizing: border-box;text-align: center;}#sk-container-id-1 label.sk-toggleable__label-arrow:before {content: \"▸\";float: left;margin-right: 0.25em;color: #696969;}#sk-container-id-1 label.sk-toggleable__label-arrow:hover:before {color: black;}#sk-container-id-1 div.sk-estimator:hover label.sk-toggleable__label-arrow:before {color: black;}#sk-container-id-1 div.sk-toggleable__content {max-height: 0;max-width: 0;overflow: hidden;text-align: left;background-color: #f0f8ff;}#sk-container-id-1 div.sk-toggleable__content pre {margin: 0.2em;color: black;border-radius: 0.25em;background-color: #f0f8ff;}#sk-container-id-1 input.sk-toggleable__control:checked~div.sk-toggleable__content {max-height: 200px;max-width: 100%;overflow: auto;}#sk-container-id-1 input.sk-toggleable__control:checked~label.sk-toggleable__label-arrow:before {content: \"▾\";}#sk-container-id-1 div.sk-estimator input.sk-toggleable__control:checked~label.sk-toggleable__label {background-color: #d4ebff;}#sk-container-id-1 div.sk-label input.sk-toggleable__control:checked~label.sk-toggleable__label {background-color: #d4ebff;}#sk-container-id-1 input.sk-hidden--visually {border: 0;clip: rect(1px 1px 1px 1px);clip: rect(1px, 1px, 1px, 1px);height: 1px;margin: -1px;overflow: hidden;padding: 0;position: absolute;width: 1px;}#sk-container-id-1 div.sk-estimator {font-family: monospace;background-color: #f0f8ff;border: 1px dotted black;border-radius: 0.25em;box-sizing: border-box;margin-bottom: 0.5em;}#sk-container-id-1 div.sk-estimator:hover {background-color: #d4ebff;}#sk-container-id-1 div.sk-parallel-item::after {content: \"\";width: 100%;border-bottom: 1px solid gray;flex-grow: 1;}#sk-container-id-1 div.sk-label:hover label.sk-toggleable__label {background-color: #d4ebff;}#sk-container-id-1 div.sk-serial::before {content: \"\";position: absolute;border-left: 1px solid gray;box-sizing: border-box;top: 0;bottom: 0;left: 50%;z-index: 0;}#sk-container-id-1 div.sk-serial {display: flex;flex-direction: column;align-items: center;background-color: white;padding-right: 0.2em;padding-left: 0.2em;position: relative;}#sk-container-id-1 div.sk-item {position: relative;z-index: 1;}#sk-container-id-1 div.sk-parallel {display: flex;align-items: stretch;justify-content: center;background-color: white;position: relative;}#sk-container-id-1 div.sk-item::before, #sk-container-id-1 div.sk-parallel-item::before {content: \"\";position: absolute;border-left: 1px solid gray;box-sizing: border-box;top: 0;bottom: 0;left: 50%;z-index: -1;}#sk-container-id-1 div.sk-parallel-item {display: flex;flex-direction: column;z-index: 1;position: relative;background-color: white;}#sk-container-id-1 div.sk-parallel-item:first-child::after {align-self: flex-end;width: 50%;}#sk-container-id-1 div.sk-parallel-item:last-child::after {align-self: flex-start;width: 50%;}#sk-container-id-1 div.sk-parallel-item:only-child::after {width: 0;}#sk-container-id-1 div.sk-dashed-wrapped {border: 1px dashed gray;margin: 0 0.4em 0.5em 0.4em;box-sizing: border-box;padding-bottom: 0.4em;background-color: white;}#sk-container-id-1 div.sk-label label {font-family: monospace;font-weight: bold;display: inline-block;line-height: 1.2em;}#sk-container-id-1 div.sk-label-container {text-align: center;}#sk-container-id-1 div.sk-container {/* jupyter's `normalize.less` sets `[hidden] { display: none; }` but bootstrap.min.css set `[hidden] { display: none !important; }` so we also need the `!important` here to be able to override the default hidden behavior on the sphinx rendered scikit-learn.org. See: https://github.com/scikit-learn/scikit-learn/issues/21755 */display: inline-block !important;position: relative;}#sk-container-id-1 div.sk-text-repr-fallback {display: none;}</style><div id=\"sk-container-id-1\" class=\"sk-top-container\"><div class=\"sk-text-repr-fallback\"><pre>Lasso(alpha=0.1)</pre><b>In a Jupyter environment, please rerun this cell to show the HTML representation or trust the notebook. <br />On GitHub, the HTML representation is unable to render, please try loading this page with nbviewer.org.</b></div><div class=\"sk-container\" hidden><div class=\"sk-item\"><div class=\"sk-estimator sk-toggleable\"><input class=\"sk-toggleable__control sk-hidden--visually\" id=\"sk-estimator-id-1\" type=\"checkbox\" checked><label for=\"sk-estimator-id-1\" class=\"sk-toggleable__label sk-toggleable__label-arrow\">Lasso</label><div class=\"sk-toggleable__content\"><pre>Lasso(alpha=0.1)</pre></div></div></div></div></div>"
      ],
      "text/plain": [
       "Lasso(alpha=0.1)"
      ]
     },
     "execution_count": 16,
     "metadata": {},
     "output_type": "execute_result"
    }
   ],
   "source": [
    "lasso.fit(X_scaled, y)"
   ]
  },
  {
   "cell_type": "code",
   "execution_count": 17,
   "id": "50089107",
   "metadata": {
    "ExecuteTime": {
     "end_time": "2024-01-25T01:09:22.134553Z",
     "start_time": "2024-01-25T01:09:22.130312Z"
    }
   },
   "outputs": [],
   "source": [
    "coefficients = lasso.coef_"
   ]
  },
  {
   "cell_type": "code",
   "execution_count": 18,
   "id": "dfe67fe4",
   "metadata": {
    "ExecuteTime": {
     "end_time": "2024-01-25T01:09:22.694906Z",
     "start_time": "2024-01-25T01:09:22.137557Z"
    }
   },
   "outputs": [],
   "source": [
    "import matplotlib.pyplot as plt"
   ]
  },
  {
   "cell_type": "code",
   "execution_count": 19,
   "id": "1402e311",
   "metadata": {
    "ExecuteTime": {
     "end_time": "2024-01-25T01:09:23.015065Z",
     "start_time": "2024-01-25T01:09:22.701302Z"
    }
   },
   "outputs": [
    {
     "data": {
      "image/png": "[encoded data removed]",
      "text/plain": [
       "<Figure size 1800x500 with 1 Axes>"
      ]
     },
     "metadata": {},
     "output_type": "display_data"
    }
   ],
   "source": [
    "plt.figure(figsize=(18,5))\n",
    "plt.bar(range(len(coefficients)),coefficients,tick_label = X.columns)\n",
    "plt.axhline(0.,color=\"red\")\n",
    "plt.show()"
   ]
  },
  {
   "cell_type": "markdown",
   "id": "e130a2be",
   "metadata": {},
   "source": [
    "# 5.) Do these coefficient magnitudes make sense?"
   ]
  },
  {
   "cell_type": "markdown",
   "id": "f303ecf9",
   "metadata": {},
   "source": [
    "Yes, the magnitudes of the coefficients shown in the bar chart are contextually appropriate. The \"Apple Share Price\" coefficient is significantly higher, indicating a very strong correlation between the search interest for Apple's share price and its earnings per share (EPS). This correlation is logical as the company's financial performance has a substantial impact on its share price.\n",
    "\n",
    "Other Apple-related terms like \"iPhone,\" \"MacBook,\" and \"iPad\" exhibit smaller yet positive coefficients, ranging from 0.19 to 0.34, suggesting a weaker but still significant relevance to EPS. The term \"recession\" shows a small negative coefficient, implying that an increased search interest in recession might inversely relate to Apple's EPS. This could mean that heightened recession concerns might correspond with a decrease in Apple's EPS.\n",
    "\n",
    "Contrastingly, unrelated terms such as \"Taylor Swift Tickets,\" \"Is the Earth Flat,\" and \"Hospital\" have coefficients near zero, aligning with the expectation that these terms lack predictive power regarding Apple’s financial performance."
   ]
  }
 ],
 "metadata": {
  "kernelspec": {
   "display_name": "Python 3 (ipykernel)",
   "language": "python",
   "name": "python3"
  },
  "language_info": {
   "codemirror_mode": {
    "name": "ipython",
    "version": 3
   },
   "file_extension": ".py",
   "mimetype": "text/x-python",
   "name": "python",
   "nbconvert_exporter": "python",
   "pygments_lexer": "ipython3",
   "version": "3.11.4"
  },
  "notify_time": "5",
  "toc": {
   "base_numbering": 1,
   "nav_menu": {},
   "number_sections": true,
   "sideBar": true,
   "skip_h1_title": false,
   "title_cell": "Table of Contents",
   "title_sidebar": "Contents",
   "toc_cell": false,
   "toc_position": {
    "height": "calc(100% - 180px)",
    "left": "10px",
    "top": "150px",
    "width": "165px"
   },
   "toc_section_display": true,
   "toc_window_display": true
  },
  "varInspector": {
   "cols": {
    "lenName": 16,
    "lenType": 16,
    "lenVar": 40
   },
   "kernels_config": {
    "python": {
     "delete_cmd_postfix": "",
     "delete_cmd_prefix": "del ",
     "library": "var_list.py",
     "varRefreshCmd": "print(var_dic_list())"
    },
    "r": {
     "delete_cmd_postfix": ") ",
     "delete_cmd_prefix": "rm(",
     "library": "var_list.r",
     "varRefreshCmd": "cat(var_dic_list()) "
    }
   },
   "oldHeight": 145.18022200000001,
   "position": {
    "height": "40px",
    "left": "1174.17px",
    "right": "20px",
    "top": "119px",
    "width": "326.306px"
   },
   "types_to_exclude": [
    "module",
    "function",
    "builtin_function_or_method",
    "instance",
    "_Feature"
   ],
   "varInspector_section_display": "none",
   "window_display": false
  }
 },
 "nbformat": 4,
 "nbformat_minor": 5
}
